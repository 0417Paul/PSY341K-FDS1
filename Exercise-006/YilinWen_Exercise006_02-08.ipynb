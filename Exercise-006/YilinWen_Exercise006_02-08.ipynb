{
 "cells": [
  {
   "cell_type": "code",
   "execution_count": 1,
   "id": "e314867c",
   "metadata": {},
   "outputs": [],
   "source": [
    "import pandas as pd\n",
    "import matplotlib.pyplot as plt\n",
    "import seaborn as sns"
   ]
  },
  {
   "cell_type": "code",
   "execution_count": 2,
   "id": "5cb3daa6",
   "metadata": {},
   "outputs": [],
   "source": [
    "Data = pd.read_csv(\"/Users/paulwen/OneDrive - The University of Texas at Austin/2022 Spring 2022/PSY 341K/PSY341K-FDS1/Exercise-006/006ExerciseFile.csv\")"
   ]
  },
  {
   "cell_type": "code",
   "execution_count": 3,
   "id": "1ec6737f",
   "metadata": {},
   "outputs": [
    {
     "data": {
      "text/html": [
       "<div>\n",
       "<style scoped>\n",
       "    .dataframe tbody tr th:only-of-type {\n",
       "        vertical-align: middle;\n",
       "    }\n",
       "\n",
       "    .dataframe tbody tr th {\n",
       "        vertical-align: top;\n",
       "    }\n",
       "\n",
       "    .dataframe thead th {\n",
       "        text-align: right;\n",
       "    }\n",
       "</style>\n",
       "<table border=\"1\" class=\"dataframe\">\n",
       "  <thead>\n",
       "    <tr style=\"text-align: right;\">\n",
       "      <th></th>\n",
       "      <th>frzr4</th>\n",
       "      <th>frzr2</th>\n",
       "    </tr>\n",
       "  </thead>\n",
       "  <tbody>\n",
       "    <tr>\n",
       "      <th>count</th>\n",
       "      <td>500.000000</td>\n",
       "      <td>500.000000</td>\n",
       "    </tr>\n",
       "    <tr>\n",
       "      <th>mean</th>\n",
       "      <td>-78.950004</td>\n",
       "      <td>-80.042102</td>\n",
       "    </tr>\n",
       "    <tr>\n",
       "      <th>std</th>\n",
       "      <td>1.590001</td>\n",
       "      <td>1.052367</td>\n",
       "    </tr>\n",
       "    <tr>\n",
       "      <th>min</th>\n",
       "      <td>-83.397327</td>\n",
       "      <td>-83.105795</td>\n",
       "    </tr>\n",
       "    <tr>\n",
       "      <th>25%</th>\n",
       "      <td>-80.073219</td>\n",
       "      <td>-80.757600</td>\n",
       "    </tr>\n",
       "    <tr>\n",
       "      <th>50%</th>\n",
       "      <td>-78.861037</td>\n",
       "      <td>-80.010948</td>\n",
       "    </tr>\n",
       "    <tr>\n",
       "      <th>75%</th>\n",
       "      <td>-77.841418</td>\n",
       "      <td>-79.284328</td>\n",
       "    </tr>\n",
       "    <tr>\n",
       "      <th>max</th>\n",
       "      <td>-75.047915</td>\n",
       "      <td>-77.134292</td>\n",
       "    </tr>\n",
       "  </tbody>\n",
       "</table>\n",
       "</div>"
      ],
      "text/plain": [
       "            frzr4       frzr2\n",
       "count  500.000000  500.000000\n",
       "mean   -78.950004  -80.042102\n",
       "std      1.590001    1.052367\n",
       "min    -83.397327  -83.105795\n",
       "25%    -80.073219  -80.757600\n",
       "50%    -78.861037  -80.010948\n",
       "75%    -77.841418  -79.284328\n",
       "max    -75.047915  -77.134292"
      ]
     },
     "execution_count": 3,
     "metadata": {},
     "output_type": "execute_result"
    }
   ],
   "source": [
    "Data.describe()"
   ]
  },
  {
   "cell_type": "code",
   "execution_count": 4,
   "id": "fa91d171",
   "metadata": {},
   "outputs": [
    {
     "data": {
      "text/plain": [
       "array([[<AxesSubplot:title={'center':'frzr4'}>,\n",
       "        <AxesSubplot:title={'center':'frzr2'}>]], dtype=object)"
      ]
     },
     "execution_count": 4,
     "metadata": {},
     "output_type": "execute_result"
    },
    {
     "data": {
      "image/png": "[encoded data removed]",
      "text/plain": [
       "<Figure size 432x288 with 2 Axes>"
      ]
     },
     "metadata": {
      "needs_background": "light"
     },
     "output_type": "display_data"
    }
   ],
   "source": [
    "Data.hist()"
   ]
  },
  {
   "cell_type": "code",
   "execution_count": 12,
   "id": "34e2a74d",
   "metadata": {},
   "outputs": [
    {
     "data": {
      "text/plain": [
       "<AxesSubplot:xlabel='frzr4', ylabel='Density'>"
      ]
     },
     "execution_count": 12,
     "metadata": {},
     "output_type": "execute_result"
    },
    {
     "data": {
      "image/png": "[encoded data removed]",
      "text/plain": [
       "<Figure size 432x288 with 1 Axes>"
      ]
     },
     "metadata": {
      "needs_background": "light"
     },
     "output_type": "display_data"
    }
   ],
   "source": [
    "sns.kdeplot(Data[\"frzr4\"], color=\"b\", fill=True, alpha=0.05)\n",
    "sns.kdeplot(Data[\"frzr2\"], color=\"r\", fill=True, alpha=0.05)"
   ]
  },
  {
   "cell_type": "code",
   "execution_count": 8,
   "id": "3d55f9bf",
   "metadata": {},
   "outputs": [],
   "source": [
    "mySummary = Data.describe()"
   ]
  },
  {
   "cell_type": "code",
   "execution_count": 9,
   "id": "de0b6359",
   "metadata": {},
   "outputs": [],
   "source": [
    "mySummary.to_csv(\"Paulsummary.csv\")"
   ]
  },
  {
   "cell_type": "code",
   "execution_count": 10,
   "id": "3e9d05e1",
   "metadata": {},
   "outputs": [],
   "source": [
    "myread = pd.read_csv(\"Paulsummary.csv\")"
   ]
  },
  {
   "cell_type": "code",
   "execution_count": 11,
   "id": "3d8fc1f6",
   "metadata": {},
   "outputs": [
    {
     "data": {
      "text/html": [
       "<div>\n",
       "<style scoped>\n",
       "    .dataframe tbody tr th:only-of-type {\n",
       "        vertical-align: middle;\n",
       "    }\n",
       "\n",
       "    .dataframe tbody tr th {\n",
       "        vertical-align: top;\n",
       "    }\n",
       "\n",
       "    .dataframe thead th {\n",
       "        text-align: right;\n",
       "    }\n",
       "</style>\n",
       "<table border=\"1\" class=\"dataframe\">\n",
       "  <thead>\n",
       "    <tr style=\"text-align: right;\">\n",
       "      <th></th>\n",
       "      <th>Unnamed: 0</th>\n",
       "      <th>frzr4</th>\n",
       "      <th>frzr2</th>\n",
       "    </tr>\n",
       "  </thead>\n",
       "  <tbody>\n",
       "    <tr>\n",
       "      <th>0</th>\n",
       "      <td>count</td>\n",
       "      <td>500.000000</td>\n",
       "      <td>500.000000</td>\n",
       "    </tr>\n",
       "    <tr>\n",
       "      <th>1</th>\n",
       "      <td>mean</td>\n",
       "      <td>-78.950004</td>\n",
       "      <td>-80.042102</td>\n",
       "    </tr>\n",
       "    <tr>\n",
       "      <th>2</th>\n",
       "      <td>std</td>\n",
       "      <td>1.590001</td>\n",
       "      <td>1.052367</td>\n",
       "    </tr>\n",
       "    <tr>\n",
       "      <th>3</th>\n",
       "      <td>min</td>\n",
       "      <td>-83.397327</td>\n",
       "      <td>-83.105795</td>\n",
       "    </tr>\n",
       "    <tr>\n",
       "      <th>4</th>\n",
       "      <td>25%</td>\n",
       "      <td>-80.073219</td>\n",
       "      <td>-80.757600</td>\n",
       "    </tr>\n",
       "    <tr>\n",
       "      <th>5</th>\n",
       "      <td>50%</td>\n",
       "      <td>-78.861037</td>\n",
       "      <td>-80.010948</td>\n",
       "    </tr>\n",
       "    <tr>\n",
       "      <th>6</th>\n",
       "      <td>75%</td>\n",
       "      <td>-77.841418</td>\n",
       "      <td>-79.284328</td>\n",
       "    </tr>\n",
       "    <tr>\n",
       "      <th>7</th>\n",
       "      <td>max</td>\n",
       "      <td>-75.047915</td>\n",
       "      <td>-77.134292</td>\n",
       "    </tr>\n",
       "  </tbody>\n",
       "</table>\n",
       "</div>"
      ],
      "text/plain": [
       "  Unnamed: 0       frzr4       frzr2\n",
       "0      count  500.000000  500.000000\n",
       "1       mean  -78.950004  -80.042102\n",
       "2        std    1.590001    1.052367\n",
       "3        min  -83.397327  -83.105795\n",
       "4        25%  -80.073219  -80.757600\n",
       "5        50%  -78.861037  -80.010948\n",
       "6        75%  -77.841418  -79.284328\n",
       "7        max  -75.047915  -77.134292"
      ]
     },
     "metadata": {},
     "output_type": "display_data"
    }
   ],
   "source": [
    "display(myread)"
   ]
  },
  {
   "cell_type": "code",
   "execution_count": null,
   "id": "ffb12874",
   "metadata": {},
   "outputs": [],
   "source": [
    "#  Comparing two freezer, the freezer 2 works better than the freezer 4. \n",
    "#  Freezer 4 needs more attention than freezer 2."
   ]
  }
 ],
 "metadata": {
  "kernelspec": {
   "display_name": "Python 3",
   "language": "python",
   "name": "python3"
  },
  "language_info": {
   "codemirror_mode": {
    "name": "ipython",
    "version": 3
   },
   "file_extension": ".py",
   "mimetype": "text/x-python",
   "name": "python",
   "nbconvert_exporter": "python",
   "pygments_lexer": "ipython3",
   "version": "3.8.8"
  }
 },
 "nbformat": 4,
 "nbformat_minor": 5
}
