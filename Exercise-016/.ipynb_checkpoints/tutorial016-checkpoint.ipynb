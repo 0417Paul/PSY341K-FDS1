{
 "cells": [
  {
   "cell_type": "markdown",
   "id": "a38d572b",
   "metadata": {},
   "source": [
    "## Some fundamental elements of programming IV\n",
    "### How to create functions"
   ]
  },
  {
   "cell_type": "markdown",
   "id": "0fcf2bcd",
   "metadata": {},
   "source": [
    "<table><tr>\n",
    "<td> <img src=\"./assets/jpnb16/denarius.jpg\" alt=\"An Ancient Roman coin (27 B.C.).\" style=\"width: 200px;\"/> </td>\n",
    "<td> <img src=\"./assets/jpnb16/breadmaker.jpg\" alt=\"A bread maker (A.D. 2022).\" style=\"width: 180px;\"/> </td>\n",
    "</tr></table>"
   ]
  },
  {
   "cell_type": "markdown",
   "id": "276f1c4b",
   "metadata": {},
   "source": [
    "### Learning goals\n",
    "  - Understand what is a function in programming\n",
    "  - Understand the syntax used by Python to define a function\n",
    "  - Practice with writing a function\n",
    "      - Write an example function to make data\n",
    "      - Write an example function to make a plot"
   ]
  },
  {
   "cell_type": "markdown",
   "id": "31049f88",
   "metadata": {},
   "source": [
    "### Recycling code\n",
    "\n",
    "Imagine if you were to be taking a data science class and you were often asked to create:\n",
    "\n",
    "  - Datasets of different means and standard deviations, say using code like: \n",
    "     `data = mu + sd*np.random.randn(siz,1)` \n",
    "  - Plots (like histograms) of the datasets. For example using `sns.kdeplot`.\n",
    "  \n",
    "You might be tempted to memorize, or even write down on a notepad, the specific code that seems to be used most often.  Looking up the code snippet from a piece of paper it would be probably fine at least in a few cases. \n",
    "\n",
    "Imagine now becoming a data scientist. Imagine handling dozens of code and analysis requests from multiple managers and clients. Many requests will likely require reusing very similar blocks of code. In theory, also in this case you *might be tempted* to use the same methid and copy and paste the same code from the piece of paper to apply to edit it and then apply it to each new request. \n",
    "\n",
    "There are better options for you. Given that your work day will likely end only after all requests have been attended to, copying and pasting might be \"suboptimal,\" to say the least."
   ]
  },
  {
   "cell_type": "markdown",
   "id": "8a2728a3",
   "metadata": {},
   "source": [
    "### Functions\n",
    "\n",
    "Functions are code methods that allow to encapsulate useful code in a reusable form. Methods exist to speed up your data science work, reduce mustakes and, eliminate extra typing needed when reusing code. These methods are called [**functions**](https://en.wikipedia.org/wiki/Subroutine).\n",
    "\n",
    "[Functions, a.k.a. subroutines](https://en.wikipedia.org/wiki/Subroutine) are sequences of code packaged as units. The units can be called at different locations in code to quickly and efficiently perform the oprations implemented in the packaged code. Functions are used to address situations just like the ones described above, where a section of code is used over and over again. Functions accept inputs and return outputs. Functions, contain useful code that performs operations that are likely to be used multiple times. \n",
    "\n",
    "Functions can help make code shorter, more nimble, and easier to read. "
   ]
  },
  {
   "cell_type": "markdown",
   "id": "f0fdda51",
   "metadata": {},
   "source": [
    "---"
   ]
  },
  {
   "cell_type": "markdown",
   "id": "6402a675",
   "metadata": {},
   "source": [
    "### Flipping a coing to choose lunch\n",
    "\n",
    "A coin flip operation is a good, easy, example to describe how functions work in python.\n",
    "\n",
    "Imagine wanting to make a function that works just like the flip of a coin. For fun, imagine wanting to use the function to pick your lunch *Tacos!* or *Pizza!* being your options. Let's look at our first example of a function.\n",
    "\n",
    "The code below is an example of how we can do something like that, simulate coinflips. To implement the code a function was defined using Python's syntax. In Python, functions are defined with a function name and the special word `def` in front of it."
   ]
  },
  {
   "cell_type": "code",
   "execution_count": null,
   "id": "a8caae49",
   "metadata": {},
   "outputs": [],
   "source": [
    "def coinflip() :\n",
    "    import numpy as np\n",
    "    flip = np.random.randint(2) # return a random 0 or 1\n",
    "    if flip == 0 :\n",
    "        result = 'Pizza!'\n",
    "    else :\n",
    "        result = 'Tacos!'\n",
    "    return result"
   ]
  },
  {
   "cell_type": "code",
   "execution_count": null,
   "id": "315ae776",
   "metadata": {},
   "outputs": [],
   "source": [
    "# Let's test this function. \n",
    "# Run this cell multiple times\n",
    "coinflip()"
   ]
  },
  {
   "cell_type": "markdown",
   "id": "98c37626",
   "metadata": {},
   "source": [
    "You should be returned either Pizza or Tacos at every coinflip call!"
   ]
  },
  {
   "cell_type": "markdown",
   "id": "dc51ab92",
   "metadata": {},
   "source": [
    "### Anatomy of a function\n",
    "\n",
    "Let's analyze the function above. \n",
    "\n",
    "  - def: The function begins with the word def.\n",
    "  \n",
    "  `def`"
   ]
  },
  {
   "cell_type": "markdown",
   "id": "85f7a743",
   "metadata": {},
   "source": [
    "  \n",
    "  - The function name: def is followed by the function's name. The name is chosen by the programmer to reflect what the function does.\n",
    "  \n",
    "  `def coinflip`\n",
    "  "
   ]
  },
  {
   "cell_type": "markdown",
   "id": "0fa5f24f",
   "metadata": {},
   "source": [
    "  - The parenthesis: The function name is followed by a pair of parenthesis `()`. \n",
    "  \n",
    "  `def coinflip()`\n",
    "  "
   ]
  },
  {
   "cell_type": "markdown",
   "id": "1b3e6d20",
   "metadata": {},
   "source": [
    "  - The column sign (`:`): The parenthesis are followed by a column sign. \n",
    "  \n",
    "  `def coinflip() :`"
   ]
  },
  {
   "cell_type": "markdown",
   "id": "c77287a1",
   "metadata": {},
   "source": [
    "  - The code lines: Indented within the function definition are the \"actual code\" lines that make up the function. When a function runs, the computer runs these lines of code from top to bottom. Below the specific lines from the function at stake.\n",
    "\n",
    "  `import numpy as np\n",
    "   flip = np.random.randint(2) # return a random 0 or 1\n",
    "   if flip == 0 :\n",
    "      result = 'Tails!'\n",
    "   else :\n",
    "      result = 'Heads!'\n",
    "   return result`"
   ]
  },
  {
   "cell_type": "markdown",
   "id": "5dd818c7",
   "metadata": {},
   "source": [
    "Importantly, all the code that belongs inside the function must be indented so as to align with the first letter of the function name. In other words, the following is incorrect:"
   ]
  },
  {
   "cell_type": "code",
   "execution_count": null,
   "id": "adfcad24",
   "metadata": {},
   "outputs": [],
   "source": [
    "def coinflip():\n",
    "    import numpy as np\n",
    "    flip = np.random.randint(2) # return a random 0 or 1\n",
    "    if flip == 0 :\n",
    "        result = 'Tails!'\n",
    "    else :\n",
    "        result = 'Heads!'\n",
    "    return result"
   ]
  },
  {
   "cell_type": "markdown",
   "id": "791d0010",
   "metadata": {},
   "source": [
    "Just like for loops, *indentation is critical in Python*!"
   ]
  },
  {
   "cell_type": "markdown",
   "id": "e386e315",
   "metadata": {},
   "source": [
    "Two additional bits of code are important to dissect from the code above.\n",
    "The second line of code `import numpy as np` in the block shows that imports must be done inside the function definition. This is because the function does not share the whole software environment and variables outside. So variables and operations inside a function will need their own definitions and imports. \n",
    "\n",
    "In the case of our coinflip we import `numpy`."
   ]
  },
  {
   "cell_type": "markdown",
   "id": "7952d2ad",
   "metadata": {},
   "source": [
    "`def coinflip() :\n",
    "import numpy as np`"
   ]
  },
  {
   "cell_type": "markdown",
   "id": "07c09de1",
   "metadata": {},
   "source": [
    "The variables and data generated by the function will need to be returned out to the outside environment and for that the special term `return` is used."
   ]
  },
  {
   "cell_type": "markdown",
   "id": "b6e65620",
   "metadata": {},
   "source": [
    "`flip = np.random.randint(2) # return a random 0 or 1\n",
    "if flip == 0 :\n",
    "    result = 'Tails!'\n",
    "else :\n",
    "    result = 'Heads!'\n",
    "return result`"
   ]
  },
  {
   "cell_type": "markdown",
   "id": "4565ada5",
   "metadata": {},
   "source": [
    "if that term is omitted nothing the values computed insdiethe function are not returned outside of the function. (Well, unfortunatelly it is more complicated than that but we will talk about the full story in a different tutorial.)"
   ]
  },
  {
   "cell_type": "markdown",
   "id": "3b0147f4",
   "metadata": {},
   "source": [
    "But let's test it. if we run a modified version of `coinflip` without the return line what happens?"
   ]
  },
  {
   "cell_type": "code",
   "execution_count": 5,
   "id": "8e10138e",
   "metadata": {},
   "outputs": [
    {
     "name": "stdout",
     "output_type": "stream",
     "text": [
      "Pizza!\n"
     ]
    }
   ],
   "source": [
    "def coinflip() :\n",
    "    import numpy as np\n",
    "    flip = np.random.randint(2) # return a random 0 or 1\n",
    "    if flip == 0 :\n",
    "        result = 'Pizza!'\n",
    "    else :\n",
    "        result = 'Tacos!'\n",
    "    print(result)\n",
    "    \n",
    "out = coinflip()"
   ]
  },
  {
   "cell_type": "markdown",
   "id": "f8f1c4af",
   "metadata": {},
   "source": [
    "What is the result? (Hit: There should be no return, no free lunch. Try.)\n",
    "\n",
    "Advanced: Can you think a way to bypass (avoid) returing `result` but still showing the option selected for lunch (*Tacos* or *Pizza*)?"
   ]
  },
  {
   "cell_type": "markdown",
   "id": "e5e327a1",
   "metadata": {},
   "source": [
    "### A more advanced version of a function: A bread maker\n",
    "\n",
    "So far we have been discussing a very simple case for a function. One that returns a single value to the outside world. The coin flip is a simple and limited case. \n",
    "\n",
    "Often times functions need stuff to work. Just like a breadmaker: add flour, yeast, water, and salt to get some bread out! A function can act like bread maker, get raw inputs and return much needed outputs."
   ]
  },
  {
   "cell_type": "markdown",
   "id": "754d1fae",
   "metadata": {},
   "source": [
    "Let's go back to look at one of code operations we have encountered multiple times in previous tutorials. \n",
    "\n",
    "`data = mu + sd*np.random.randn(siz,1)`"
   ]
  },
  {
   "cell_type": "markdown",
   "id": "cc9eb656",
   "metadata": {},
   "source": [
    "Several times, we have generated data by using a random generator. Often times we have used a generator that returns normally distributed data. \n",
    "\n",
    "Imagine wanting to use what you just learned about functions to write a new function that can generate distributions of normally distributed data for you with a certain mean, standard deviation and size.\n",
    "\n",
    "To do so, we would need a function that can return `data`. We could do that by reusing what just learned with `coinflip()`:"
   ]
  },
  {
   "cell_type": "code",
   "execution_count": 7,
   "id": "e95b7edf",
   "metadata": {},
   "outputs": [],
   "source": [
    "def my_normal_data():\n",
    "    import numpy as np\n",
    "    data = 5 + 2*np.random.randn(10,1)\n",
    "    return data"
   ]
  },
  {
   "cell_type": "markdown",
   "id": "1454372f",
   "metadata": {},
   "source": [
    "We can take a look at the returned variable `data`:"
   ]
  },
  {
   "cell_type": "code",
   "execution_count": 8,
   "id": "a7b95450",
   "metadata": {},
   "outputs": [],
   "source": [
    "d = my_normal_data()"
   ]
  },
  {
   "cell_type": "code",
   "execution_count": 10,
   "id": "f65a108c",
   "metadata": {},
   "outputs": [
    {
     "data": {
      "text/plain": [
       "5.5818410353301"
      ]
     },
     "execution_count": 10,
     "metadata": {},
     "output_type": "execute_result"
    }
   ],
   "source": [
    "# What is the mean value?\n",
    "\n",
    "import numpy as np\n",
    "np.mean(d)"
   ]
  },
  {
   "cell_type": "code",
   "execution_count": 11,
   "id": "59098c7a",
   "metadata": {},
   "outputs": [
    {
     "data": {
      "text/plain": [
       "1.234476564929474"
      ]
     },
     "execution_count": 11,
     "metadata": {},
     "output_type": "execute_result"
    }
   ],
   "source": [
    "# What about the standard deviation?\n",
    "np.std(d)"
   ]
  },
  {
   "cell_type": "code",
   "execution_count": 12,
   "id": "7f9d7cc2",
   "metadata": {},
   "outputs": [
    {
     "data": {
      "text/plain": [
       "10"
      ]
     },
     "execution_count": 12,
     "metadata": {},
     "output_type": "execute_result"
    }
   ],
   "source": [
    "# How many data points did we get?\n",
    "np.size(d)"
   ]
  },
  {
   "cell_type": "markdown",
   "id": "634ca2c5",
   "metadata": {},
   "source": [
    "If the function above is run multiple times, the results will aways return:\n",
    "  - different numbers, \n",
    "  - a mean around `5`, \n",
    "  - a standard deviation around `2` and \n",
    "  - a numerosity (the size) of the sample of `10`."
   ]
  },
  {
   "cell_type": "markdown",
   "id": "aa850c45",
   "metadata": {},
   "source": [
    "#### Functions can return data by variable assigment\n",
    "\n",
    "Note that we have already encountered a difference from `coinflip()`. \n",
    "\n",
    "The function `my_normal_data()` was called and the value returned by the function was assigned to a variable called `d`. \n",
    "\n",
    "In the early example, `coinflip()` did not return usable data. All we wanted from the function was to visualize the value of a varible internal to the function. \n",
    "\n",
    "In the case right above here, we wanted to actual data to compute the `mean`, the `std` and measure the `size`. To do so, we had to use additional functionality of python; we assigned the returning variable `data`, that existed internal to the function to the variable `d` which existed outside of the function.\n",
    "\n",
    "It is `d` that we can use as data and it is `d` that we can study. So a new piece of learning here:\n",
    " - Python functions can return internal variables but the variables must be assigned to output variables to be used outside of the function."
   ]
  },
  {
   "cell_type": "markdown",
   "id": "f2ec9c9d",
   "metadata": {},
   "source": [
    "#### The bread maker\n",
    "\n",
    "This is all great. \n",
    "\n",
    "We have now learned how to create an advanced function that returns data. Yet, this is not quite a breadmaker yet! \n",
    "\n",
    "Wouldn't it be terrific if the function could receive as inputs the size, the mean and the standard deviation of the data sample? That would allow a user to specify the center and spread of the distribution of data as well as the size of the data set. \n",
    "\n",
    "That would look pretty much like a bread maker: We add ingredients and return freshly baked awesome bread."
   ]
  },
  {
   "cell_type": "markdown",
   "id": "8a0f1cfa",
   "metadata": {},
   "source": [
    "#### Functions can accept variables as inputs and use those variables to perform operations\n",
    "\n",
    "Python function can take inputs just like they can return outputs. *Input variables* can be added at the function definition and the function can then use the values stored inside the variables for internal computations. \n",
    "\n",
    "Below an example."
   ]
  },
  {
   "cell_type": "code",
   "execution_count": 13,
   "id": "0650650e",
   "metadata": {},
   "outputs": [],
   "source": [
    "def my_awesome_data(mu,sd,siz):\n",
    "    import numpy as np\n",
    "    data = mu + sd*np.random.randn(siz,1);\n",
    "    return data"
   ]
  },
  {
   "cell_type": "code",
   "execution_count": 15,
   "id": "0434428a",
   "metadata": {},
   "outputs": [
    {
     "data": {
      "text/plain": [
       "array([[-0.4142789 ],\n",
       "       [ 1.80112563],\n",
       "       [-0.09402641],\n",
       "       [ 0.7483779 ],\n",
       "       [ 1.21164634],\n",
       "       [-3.3341064 ],\n",
       "       [-3.56172213],\n",
       "       [-1.01193454],\n",
       "       [ 1.35415202],\n",
       "       [-1.20875014],\n",
       "       [ 1.52554535],\n",
       "       [-0.72896039],\n",
       "       [-1.53475319],\n",
       "       [ 1.25878647],\n",
       "       [ 0.38310512],\n",
       "       [-0.09325223],\n",
       "       [-1.87947686],\n",
       "       [-0.3744379 ],\n",
       "       [-4.11217716],\n",
       "       [ 2.54055916]])"
      ]
     },
     "execution_count": 15,
     "metadata": {},
     "output_type": "execute_result"
    }
   ],
   "source": [
    "d = my_awesome_data(0,2,20)\n",
    "d"
   ]
  },
  {
   "cell_type": "code",
   "execution_count": 16,
   "id": "79df9374",
   "metadata": {},
   "outputs": [
    {
     "data": {
      "text/plain": [
       "-0.37622891212561826"
      ]
     },
     "execution_count": 16,
     "metadata": {},
     "output_type": "execute_result"
    }
   ],
   "source": [
    "# What is the mean value?\n",
    "np.mean(d)"
   ]
  },
  {
   "cell_type": "code",
   "execution_count": 17,
   "id": "e546d8c1",
   "metadata": {},
   "outputs": [
    {
     "data": {
      "text/plain": [
       "1.7990815294863325"
      ]
     },
     "execution_count": 17,
     "metadata": {},
     "output_type": "execute_result"
    }
   ],
   "source": [
    "# What about the standard deviation?\n",
    "np.std(d)"
   ]
  },
  {
   "cell_type": "code",
   "execution_count": 18,
   "id": "e05c31f0",
   "metadata": {},
   "outputs": [
    {
     "data": {
      "text/plain": [
       "20"
      ]
     },
     "execution_count": 18,
     "metadata": {},
     "output_type": "execute_result"
    }
   ],
   "source": [
    "# How many data points did we get?\n",
    "np.size(d)"
   ]
  },
  {
   "cell_type": "markdown",
   "id": "979de8d5",
   "metadata": {},
   "source": [
    "What happens if you change the inout values say from `(0,2,20)` to `(10,4,200)`? Give it a try:"
   ]
  },
  {
   "cell_type": "code",
   "execution_count": 21,
   "id": "237766b1",
   "metadata": {},
   "outputs": [
    {
     "data": {
      "text/plain": [
       "array([[ 8.71970635],\n",
       "       [13.97185435],\n",
       "       [ 8.84582402],\n",
       "       [ 5.11163759],\n",
       "       [15.0095364 ],\n",
       "       [ 4.59849575],\n",
       "       [13.92823232],\n",
       "       [ 9.32017552],\n",
       "       [10.34999899],\n",
       "       [ 7.23984127],\n",
       "       [14.62731538],\n",
       "       [ 3.67319979],\n",
       "       [10.58286249],\n",
       "       [13.29714014],\n",
       "       [15.83540515],\n",
       "       [ 3.9779576 ],\n",
       "       [ 8.26978225],\n",
       "       [11.66737894],\n",
       "       [ 8.32283068],\n",
       "       [ 5.90021245],\n",
       "       [ 8.87854249],\n",
       "       [11.87277781],\n",
       "       [10.72533542],\n",
       "       [-0.65929409],\n",
       "       [ 2.74697167],\n",
       "       [14.05874951],\n",
       "       [ 6.84435151],\n",
       "       [ 6.95873886],\n",
       "       [11.5948852 ],\n",
       "       [ 7.20397394],\n",
       "       [15.94453038],\n",
       "       [ 0.40900998],\n",
       "       [14.28848928],\n",
       "       [ 8.84997185],\n",
       "       [11.55337884],\n",
       "       [14.1121555 ],\n",
       "       [10.86068529],\n",
       "       [14.93103714],\n",
       "       [13.29104512],\n",
       "       [18.33047741],\n",
       "       [13.83248342],\n",
       "       [ 5.72796577],\n",
       "       [ 5.25862633],\n",
       "       [ 8.41375158],\n",
       "       [ 7.62708953],\n",
       "       [ 3.81822205],\n",
       "       [11.53018153],\n",
       "       [ 4.5414339 ],\n",
       "       [ 9.22794292],\n",
       "       [17.44559552],\n",
       "       [ 7.59486687],\n",
       "       [ 7.76867263],\n",
       "       [ 4.81806556],\n",
       "       [13.15128685],\n",
       "       [12.06163068],\n",
       "       [15.86611159],\n",
       "       [13.79150917],\n",
       "       [ 6.68080429],\n",
       "       [14.06601184],\n",
       "       [ 7.82034843],\n",
       "       [15.37835602],\n",
       "       [ 7.83129052],\n",
       "       [ 8.69420623],\n",
       "       [11.70640883],\n",
       "       [13.22256813],\n",
       "       [ 6.2676374 ],\n",
       "       [14.12186707],\n",
       "       [12.38603497],\n",
       "       [ 5.71638598],\n",
       "       [ 8.16406621],\n",
       "       [13.12619356],\n",
       "       [ 3.5400277 ],\n",
       "       [12.36588294],\n",
       "       [13.00672657],\n",
       "       [12.37744613],\n",
       "       [ 5.39685549],\n",
       "       [ 6.00275155],\n",
       "       [ 9.64735384],\n",
       "       [14.6576671 ],\n",
       "       [ 3.93801177],\n",
       "       [ 6.41367923],\n",
       "       [12.67530792],\n",
       "       [11.08699667],\n",
       "       [15.25961989],\n",
       "       [12.01346817],\n",
       "       [15.20204839],\n",
       "       [ 8.69870726],\n",
       "       [12.45081331],\n",
       "       [12.35516562],\n",
       "       [10.30851107],\n",
       "       [10.80261578],\n",
       "       [12.54506704],\n",
       "       [15.27438124],\n",
       "       [11.94637033],\n",
       "       [13.21185692],\n",
       "       [ 5.51687043],\n",
       "       [ 2.47076094],\n",
       "       [ 8.13418264],\n",
       "       [ 7.53602765],\n",
       "       [14.49480296],\n",
       "       [13.17421943],\n",
       "       [14.68151038],\n",
       "       [ 7.09371802],\n",
       "       [16.63492097],\n",
       "       [10.44407834],\n",
       "       [ 7.61054371],\n",
       "       [11.2698728 ],\n",
       "       [ 8.98089928],\n",
       "       [ 6.63241077],\n",
       "       [10.23752004],\n",
       "       [ 6.30481617],\n",
       "       [10.85686944],\n",
       "       [15.36630537],\n",
       "       [ 5.55846352],\n",
       "       [ 8.47449731],\n",
       "       [13.31600297],\n",
       "       [ 9.02694897],\n",
       "       [12.48054994],\n",
       "       [10.76342974],\n",
       "       [ 4.74816449],\n",
       "       [ 7.67739698],\n",
       "       [ 3.25120037],\n",
       "       [14.11462612],\n",
       "       [ 8.92673418],\n",
       "       [13.44044111],\n",
       "       [11.68340731],\n",
       "       [ 8.14018813],\n",
       "       [12.70683515],\n",
       "       [ 4.58794132],\n",
       "       [ 7.65887057],\n",
       "       [17.6881941 ],\n",
       "       [11.10930045],\n",
       "       [13.66477625],\n",
       "       [ 9.49827359],\n",
       "       [13.94734711],\n",
       "       [13.14846559],\n",
       "       [10.83972962],\n",
       "       [10.1904742 ],\n",
       "       [ 3.54440849],\n",
       "       [10.90393016],\n",
       "       [12.74924347],\n",
       "       [10.95581503],\n",
       "       [11.65768732],\n",
       "       [13.09148513],\n",
       "       [10.35801614],\n",
       "       [10.51640499],\n",
       "       [12.43455858],\n",
       "       [10.41860782],\n",
       "       [12.13850053],\n",
       "       [17.15006788],\n",
       "       [13.00909415],\n",
       "       [13.80089683],\n",
       "       [16.64280205],\n",
       "       [ 9.82241591],\n",
       "       [ 9.83162484],\n",
       "       [ 7.98737852],\n",
       "       [ 5.95332153],\n",
       "       [ 1.30996335],\n",
       "       [ 6.57338938],\n",
       "       [17.02203994],\n",
       "       [ 6.2604286 ],\n",
       "       [ 5.09752558],\n",
       "       [16.8401359 ],\n",
       "       [ 9.65077055],\n",
       "       [ 8.44194042],\n",
       "       [11.00087612],\n",
       "       [12.0285003 ],\n",
       "       [12.85216334],\n",
       "       [ 9.54310164],\n",
       "       [ 9.27714638],\n",
       "       [10.68332903],\n",
       "       [ 9.01552902],\n",
       "       [10.43381935],\n",
       "       [11.05201012],\n",
       "       [14.22426843],\n",
       "       [14.62557966],\n",
       "       [12.40621104],\n",
       "       [ 7.29211676],\n",
       "       [10.51214283],\n",
       "       [12.80343638],\n",
       "       [ 5.49238725],\n",
       "       [16.86705984],\n",
       "       [11.96518813],\n",
       "       [11.9505543 ],\n",
       "       [18.23028077],\n",
       "       [ 8.99136555],\n",
       "       [12.49689478],\n",
       "       [11.87111995],\n",
       "       [13.88449594],\n",
       "       [ 7.77883898],\n",
       "       [ 6.5126823 ],\n",
       "       [16.10452304],\n",
       "       [ 7.25417808],\n",
       "       [10.80288311],\n",
       "       [16.66194155],\n",
       "       [ 5.7098196 ],\n",
       "       [ 4.82609218],\n",
       "       [ 7.26778885],\n",
       "       [ 9.75909793],\n",
       "       [ 8.32598268]])"
      ]
     },
     "execution_count": 21,
     "metadata": {},
     "output_type": "execute_result"
    }
   ],
   "source": [
    "d = my_awesome_data(10,4,200)\n",
    "d"
   ]
  },
  {
   "cell_type": "markdown",
   "id": "c03efe35",
   "metadata": {},
   "source": [
    "What happens if you omit the inputs?"
   ]
  },
  {
   "cell_type": "code",
   "execution_count": 20,
   "id": "661e2e88",
   "metadata": {},
   "outputs": [
    {
     "ename": "TypeError",
     "evalue": "my_awesome_data() missing 3 required positional arguments: 'mu', 'sd', and 'siz'",
     "output_type": "error",
     "traceback": [
      "\u001b[0;31m---------------------------------------------------------------------------\u001b[0m",
      "\u001b[0;31mTypeError\u001b[0m                                 Traceback (most recent call last)",
      "Input \u001b[0;32mIn [20]\u001b[0m, in \u001b[0;36m<cell line: 1>\u001b[0;34m()\u001b[0m\n\u001b[0;32m----> 1\u001b[0m d \u001b[38;5;241m=\u001b[39m \u001b[43mmy_awesome_data\u001b[49m\u001b[43m(\u001b[49m\u001b[43m)\u001b[49m\n",
      "\u001b[0;31mTypeError\u001b[0m: my_awesome_data() missing 3 required positional arguments: 'mu', 'sd', and 'siz'"
     ]
    }
   ],
   "source": [
    "d = my_awesome_data()"
   ]
  },
  {
   "cell_type": "markdown",
   "id": "348f6916",
   "metadata": {},
   "source": [
    "What does the error say? Hint: There are required input arguments!"
   ]
  },
  {
   "cell_type": "markdown",
   "id": "42744d59",
   "metadata": {},
   "source": [
    "This is an awesome new function that doesn't just return data, but it can return the data you need. You can pick the flower (the mean), the salt (the standard deviation) and the yeast (the size of the dataset) and the function will make bread for you, or better than that, the function will give you the data you want.\n",
    "\n",
    "The function can be reused, copied, pasted and once defined in a jupyter notebook it can be used *ad infinitum* (again and again)."
   ]
  },
  {
   "cell_type": "markdown",
   "id": "462615ad",
   "metadata": {},
   "source": [
    "### Combining functions to simplify and reuse plotting code\n",
    "\n",
    "In the past tutorial, we have learned how to use `matplotlib.pyplot` to make pretty plots. The code of one of the past examples is reproduced below. It makes four pretty plots of a Linear, a Quandratic, a Cubic and a Quartic function. "
   ]
  },
  {
   "cell_type": "code",
   "execution_count": null,
   "id": "4f31045e",
   "metadata": {},
   "outputs": [],
   "source": [
    "# make sure we have our tools\n",
    "import numpy as np                 \n",
    "import matplotlib.pyplot as plt \n",
    "\n",
    "# compute our polynomials\n",
    "my_x = np.array([-4, -3, -2, -1, 0, 1, 2, 3, 4])\n",
    "y_lin = my_x\n",
    "y_quad = my_x**2  # ** is Python for exponentiation\n",
    "y_cube = my_x**3\n",
    "y_quart = my_x**4 \n",
    "\n",
    "# set our style\n",
    "plt.style.use('ggplot')\n",
    "axisLabelSize = 16\n",
    "titleSize = 20\n",
    "\n",
    "# make a big square figure\n",
    "plt.figure(figsize=(7, 7))\n",
    "\n",
    "# Now make each of the plots!\n",
    "\n",
    "# first is top left\n",
    "plt.subplot(221)                               \n",
    "plt.plot(my_x, y_lin, label = 'linear');  \n",
    "plt.xlabel('x', fontsize = axisLabelSize);           \n",
    "plt.ylabel('x', fontsize = axisLabelSize);\n",
    "plt.title('Linear', fontsize = titleSize);\n",
    "plt.text(-2, 2, 'axes panel 1')\n",
    "\n",
    "# then top right\n",
    "plt.subplot(222)                              \n",
    "plt.plot(my_x, y_quad, label = 'quadratic');\n",
    "plt.xlabel('x', fontsize = axisLabelSize);\n",
    "plt.ylabel('x squared', fontsize = axisLabelSize);\n",
    "plt.title('Quadradic', fontsize = titleSize,);\n",
    "plt.text(-1, 10, 'axes panel 2')\n",
    "\n",
    "# third is bottom left\n",
    "plt.subplot(223)\n",
    "plt.plot(my_x, y_cube, label = 'cubic');\n",
    "plt.xlabel('x', fontsize = axisLabelSize);\n",
    "plt.ylabel('x cubed', fontsize = axisLabelSize);\n",
    "plt.title('Cubic', fontsize = titleSize,);\n",
    "plt.text(-2, 40, 'axes panel 3')\n",
    "\n",
    "# then bottom right\n",
    "plt.subplot(224)\n",
    "plt.plot(my_x, y_quart, label = 'quartic');\n",
    "plt.xlabel('x', fontsize = axisLabelSize);\n",
    "plt.ylabel('x to the fourth', fontsize = axisLabelSize);\n",
    "plt.title('Quartic', fontsize = titleSize,);\n",
    "plt.text(-1, 150, 'axes panel 4')\n",
    "\n",
    "# finally, make everything automagically fit\n",
    "plt.tight_layout()"
   ]
  },
  {
   "cell_type": "markdown",
   "id": "68f7a511",
   "metadata": {},
   "source": [
    "We have to admit that the plotting code is long and ugly.\n",
    "\n",
    "We are going to use a function to separate the plotting code from the data generation code so to be able to call this whole block of code multiple times. \n",
    "\n",
    "First of all we have the data generation block of code."
   ]
  },
  {
   "cell_type": "code",
   "execution_count": 25,
   "id": "9aa2f7f8",
   "metadata": {},
   "outputs": [],
   "source": [
    "# This is the data generation code\n",
    "import numpy as np                 \n",
    "import matplotlib.pyplot as plt \n",
    "\n",
    "# compute our polynomials\n",
    "my_x = np.array([-4, -3, -2, -1, 0, 1, 2, 3, 4])\n",
    "y_lin = my_x\n",
    "y_quad = my_x**2  # ** is Python for exponentiation\n",
    "y_cube = my_x**3\n",
    "y_quart = my_x**4 "
   ]
  },
  {
   "cell_type": "markdown",
   "id": "b2128758",
   "metadata": {},
   "source": [
    "After that, we have the plotting code. We are not going to stick that code into a function.\n",
    "\n",
    "The function will need as inputs the data we generated outside:\n",
    "  - my_x\n",
    "  - y_lin\n",
    "  - y_quad\n",
    "  - y_cube\n",
    "  - y_quart\n",
    "  \n",
    " The rest of the code will be just like above. The new function will take as inputs the data (5 vectors of the same size) and make plots:"
   ]
  },
  {
   "cell_type": "code",
   "execution_count": null,
   "id": "e47e1a06",
   "metadata": {},
   "outputs": [],
   "source": [
    "def my_spiffy_plotting_func(my_x, y_lin, y_quad, y_cube, y_quart):\n",
    "# This is the function that will plot the data\n",
    "    # set our style\n",
    "    plt.style.use('ggplot')\n",
    "    axisLabelSize = 16\n",
    "    titleSize = 20\n",
    "\n",
    "    # make a big square figure\n",
    "    plt.figure(figsize=(7, 7))\n",
    "\n",
    "    # Now make each of the plots!\n",
    "\n",
    "    # first is top left\n",
    "    plt.subplot(221)                               \n",
    "    plt.plot(my_x, y_lin, label = 'linear');  \n",
    "    plt.xlabel('x', fontsize = axisLabelSize);           \n",
    "    plt.ylabel('x', fontsize = axisLabelSize);\n",
    "    plt.title('Linear', fontsize = titleSize);\n",
    "    plt.text(-2, 2, 'axes panel 1')\n",
    "\n",
    "    # then top right\n",
    "    plt.subplot(222)                              \n",
    "    plt.plot(my_x, y_quad, label = 'quadratic');\n",
    "    plt.xlabel('x', fontsize = axisLabelSize);\n",
    "    plt.ylabel('x squared', fontsize = axisLabelSize);\n",
    "    plt.title('Quadradic', fontsize = titleSize,);\n",
    "    plt.text(-1, 10, 'axes panel 2')\n",
    "\n",
    "    # third is bottom left\n",
    "    plt.subplot(223)\n",
    "    plt.plot(my_x, y_cube, label = 'cubic');\n",
    "    plt.xlabel('x', fontsize = axisLabelSize);\n",
    "    plt.ylabel('x cubed', fontsize = axisLabelSize);\n",
    "    plt.title('Cubic', fontsize = titleSize,);\n",
    "    plt.text(-2, 40, 'axes panel 3')\n",
    "\n",
    "    # then bottom right\n",
    "    plt.subplot(224)\n",
    "    plt.plot(my_x, y_quart, label = 'quartic');\n",
    "    plt.xlabel('x', fontsize = axisLabelSize);\n",
    "    plt.ylabel('x to the fourth', fontsize = axisLabelSize);\n",
    "    plt.title('Quartic', fontsize = titleSize,);\n",
    "    plt.text(-1, 150, 'axes panel 4')\n",
    "\n",
    "    # finally, make everything automagically fit\n",
    "    plt.tight_layout()"
   ]
  },
  {
   "cell_type": "markdown",
   "id": "a76af44e",
   "metadata": {},
   "source": [
    "Let's next launch the the function passing the data!"
   ]
  },
  {
   "cell_type": "code",
   "execution_count": null,
   "id": "e5c19429",
   "metadata": {},
   "outputs": [],
   "source": [
    "my_spiffy_plotting_func(my_x, y_lin, y_quad, y_cube, y_quart)"
   ]
  },
  {
   "cell_type": "markdown",
   "id": "304e52d2",
   "metadata": {},
   "source": [
    "Isn't that nice? We have a one line of code now that can make that pretty plot of ours.\n",
    "\n",
    "What if we wanted to change the font size later one? We could add additional parameters to allow us to variate the font size everytime we call the function. Let's do that. We will redefine the function adding the font size as input."
   ]
  },
  {
   "cell_type": "code",
   "execution_count": 26,
   "id": "a12ecda0",
   "metadata": {},
   "outputs": [],
   "source": [
    "def my_spiffy_plotting_func(my_x, y_lin, y_quad, y_cube, y_quart, axisLabelSize, titleSize, plotsytle = 'fivethirtyeight'):\n",
    "# This is the function that will plot the data\n",
    "    # set our style\n",
    "    plt.style.use(plotsytle)\n",
    "\n",
    "    # make a big square figure\n",
    "    plt.figure(figsize=(7, 7))\n",
    "\n",
    "    # Now make each of the plots!\n",
    "\n",
    "    # first is top left\n",
    "    plt.subplot(221)                               \n",
    "    plt.plot(my_x, y_lin, label = 'linear');  \n",
    "    plt.xlabel('x', fontsize = axisLabelSize);           \n",
    "    plt.ylabel('x', fontsize = axisLabelSize);\n",
    "    plt.title('Linear', fontsize = titleSize);\n",
    "    plt.text(-2, 2, 'axes panel 1')\n",
    "\n",
    "    # then top right\n",
    "    plt.subplot(222)                              \n",
    "    plt.plot(my_x, y_quad, label = 'quadratic');\n",
    "    plt.xlabel('x', fontsize = axisLabelSize);\n",
    "    plt.ylabel('x squared', fontsize = axisLabelSize);\n",
    "    plt.title('Quadradic', fontsize = titleSize,);\n",
    "    plt.text(-1, 10, 'axes panel 2')\n",
    "\n",
    "    # third is bottom left\n",
    "    plt.subplot(223)\n",
    "    plt.plot(my_x, y_cube, label = 'cubic');\n",
    "    plt.xlabel('x', fontsize = axisLabelSize);\n",
    "    plt.ylabel('x cubed', fontsize = axisLabelSize);\n",
    "    plt.title('Cubic', fontsize = titleSize,);\n",
    "    plt.text(-2, 40, 'axes panel 3')\n",
    "\n",
    "    # then bottom right\n",
    "    plt.subplot(224)\n",
    "    plt.plot(my_x, y_quart, label = 'quartic');\n",
    "    plt.xlabel('x', fontsize = axisLabelSize);\n",
    "    plt.ylabel('x to the fourth', fontsize = axisLabelSize);\n",
    "    plt.title('Quartic', fontsize = titleSize,);\n",
    "    plt.text(-1, 150, 'axes panel 4')\n",
    "\n",
    "    # finally, make everything automagically fit\n",
    "    plt.tight_layout()"
   ]
  },
  {
   "cell_type": "markdown",
   "id": "fad21a4e",
   "metadata": {},
   "source": [
    "We can now run this function. We will pass slightly different font size (14 and 12, instead of 16 and 20)."
   ]
  },
  {
   "cell_type": "code",
   "execution_count": 27,
   "id": "d8a71eb4",
   "metadata": {},
   "outputs": [
    {
     "data": {
      "image/png": "[encoded data removed]",
      "text/plain": [
       "<Figure size 504x504 with 4 Axes>"
      ]
     },
     "metadata": {},
     "output_type": "display_data"
    }
   ],
   "source": [
    "my_spiffy_plotting_func(my_x, y_lin, y_quad, y_cube, y_quart, 14, 12)"
   ]
  },
  {
   "cell_type": "markdown",
   "id": "06a31393",
   "metadata": {},
   "source": [
    "Sweet.\n",
    "\n",
    "---"
   ]
  },
  {
   "cell_type": "markdown",
   "id": "8f5f7c9a",
   "metadata": {},
   "source": [
    "In this tutorial we have l;earned the basic syntax of functions in python. The definition, the inputs, the ouputs. We have also practiced with defining two types of functions, one that can be used to generate data. The other that can be used to plot data.\n",
    "\n",
    "There many applications to functions and indeed the majority of what we have been using so far in Python is defined as a function! There are also other apsects of functions and how they work that we have not covered above.\n",
    "\n",
    "---"
   ]
  },
  {
   "cell_type": "code",
   "execution_count": null,
   "id": "b5f0cdd1",
   "metadata": {},
   "outputs": [],
   "source": []
  },
  {
   "cell_type": "code",
   "execution_count": null,
   "id": "5b7da81e",
   "metadata": {},
   "outputs": [],
   "source": []
  },
  {
   "cell_type": "markdown",
   "id": "18042d95",
   "metadata": {},
   "source": [
    "### One last question:\n",
    "\n",
    "If we wanted to be able to change the style of the plots above, say we would like to pick 'fivethirtyeight' or other styles, how would you modify the definition of my_spiffy_plotting_func() so to allow changing the style, every time the function is called?"
   ]
  },
  {
   "cell_type": "code",
   "execution_count": null,
   "id": "921557ab",
   "metadata": {},
   "outputs": [],
   "source": []
  }
 ],
 "metadata": {
  "kernelspec": {
   "display_name": "Python 3 (ipykernel)",
   "language": "python",
   "name": "python3"
  },
  "language_info": {
   "codemirror_mode": {
    "name": "ipython",
    "version": 3
   },
   "file_extension": ".py",
   "mimetype": "text/x-python",
   "name": "python",
   "nbconvert_exporter": "python",
   "pygments_lexer": "ipython3",
   "version": "3.8.12"
  }
 },
 "nbformat": 4,
 "nbformat_minor": 5
}
