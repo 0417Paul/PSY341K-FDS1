{
 "cells": [
  {
   "cell_type": "markdown",
   "id": "8d5850ff",
   "metadata": {},
   "source": [
    "# In-class exercise for tutorial012\n",
    "# Loops!"
   ]
  },
  {
   "cell_type": "markdown",
   "id": "c5c44d24",
   "metadata": {},
   "source": [
    "## Introduction"
   ]
  },
  {
   "cell_type": "markdown",
   "id": "b40af479",
   "metadata": {},
   "source": [
    "All of what we think of as \"statistics\" is based upon repeating an experiment an infinite number of times. But rather than actually repeating the experiment, a bunch of calculus is used, plus assumptions to get the math to work. It may not seem obvious, but when we have been doing something as simple as compute the width of a sampling distribution from a set of data as *s/sqrt(n)*, what we are really saying is:\n",
    "\n",
    "\"If we were to do this experiment an infinite number of times and make a distribution of the means from all the experiments, it would be a normal distribution and have a standard deviation of s/sqrt(n). (And, by the way, this formula is based on a bunch of math that we will never actually do!)\""
   ]
  },
  {
   "cell_type": "markdown",
   "id": "0bd2fa3a",
   "metadata": {},
   "source": [
    "One of the most important breakthroughs in statistics and data science was the realization that, with the repetition of a few simple operations (using computers), we can actually simulate experiments a \"very large\" number of times. And while it's true that \"very large\" is less then infinite, by using computers to repeat experiments many many times (say tenths of thousands), we free ourselves of the assumptions that had to made in order to get the math underlying traditional statistics to work!"
   ]
  },
  {
   "cell_type": "markdown",
   "id": "d1f9027b",
   "metadata": {},
   "source": [
    "But how would we simulate repeating an experiment a number of times over in code?\n",
    "\n",
    "You guessed it... **with a `for` loop!**"
   ]
  },
  {
   "cell_type": "markdown",
   "id": "9d6eaa57",
   "metadata": {},
   "source": [
    "---"
   ]
  },
  {
   "cell_type": "markdown",
   "id": "0a2229ba",
   "metadata": {},
   "source": [
    "### Load the data set"
   ]
  },
  {
   "cell_type": "markdown",
   "id": "b83ffc9d",
   "metadata": {},
   "source": [
    "The data come from an online test of anxiety that – according to the sketchy website – was constructed such that the anxiety scores are **normally distributed** with a **mean of 50** and a **standard deviation of 10**."
   ]
  },
  {
   "cell_type": "markdown",
   "id": "08259b8c",
   "metadata": {},
   "source": [
    "Preliminaries of course..."
   ]
  },
  {
   "cell_type": "code",
   "execution_count": 1,
   "id": "08142350",
   "metadata": {},
   "outputs": [],
   "source": [
    "import numpy as np\n",
    "import seaborn as sns"
   ]
  },
  {
   "cell_type": "code",
   "execution_count": 2,
   "id": "9fdbc5fb",
   "metadata": {},
   "outputs": [],
   "source": [
    "from IPython.core.interactiveshell import InteractiveShell\n",
    "InteractiveShell.ast_node_interactivity = \"all\""
   ]
  },
  {
   "cell_type": "markdown",
   "id": "33a49ed3",
   "metadata": {},
   "source": [
    "Load the data file \"datasets/012_anxiety_data.npy\" (assuming you put the file in your \"datasets\" folder – otherwise adjust path as necessary. Reminder: `np.load()` is your friend!"
   ]
  },
  {
   "cell_type": "code",
   "execution_count": 5,
   "id": "10e2c144",
   "metadata": {},
   "outputs": [
    {
     "data": {
      "text/plain": [
       "array([66.15598705, 60.99347947, 73.95178076, 69.44786909, 66.18546847,\n",
       "       46.87309342, 55.4822878 , 61.01462004, 53.8560988 , 70.26684944,\n",
       "       51.41494246, 74.40727401, 57.36228612, 81.16455062, 59.54616334,\n",
       "       49.19403488, 84.20749803, 60.21862833, 47.004287  , 60.62489583,\n",
       "       65.62010043, 66.66460096, 69.92435732, 71.93795517, 62.08777851,\n",
       "       58.38746687, 53.38311807, 36.19697643, 70.21563628, 44.98299005,\n",
       "       67.9994991 , 55.82578757, 61.36715595, 55.43705844, 64.19714952,\n",
       "       40.19598403, 70.78236851, 59.7730611 , 67.30582054, 61.05911192,\n",
       "       52.47104034, 44.52717704, 73.52349749, 64.82501164, 70.01136376,\n",
       "       55.02199822, 52.94748241, 50.20134902, 60.59984295, 49.23329907,\n",
       "       41.99194972, 80.92696942, 53.81366322, 66.94236944, 55.5589867 ,\n",
       "       62.98725634, 48.97524177, 56.11617858, 55.56544834, 60.1595137 ,\n",
       "       47.41608974, 82.58214288, 65.19048143, 65.93283347, 45.51017657,\n",
       "       65.95559035, 66.78266307, 52.79709827, 48.18003522, 59.52598521,\n",
       "       65.24045299, 66.97949535, 55.82678371, 60.38729762, 54.81340829,\n",
       "       69.99306229, 62.70126315, 68.67203462, 62.56824652, 59.50985961,\n",
       "       64.21744252, 62.42381687, 71.57609653, 62.30253591, 54.44716293,\n",
       "       68.05096356, 52.035678  , 49.45510412, 82.16040963, 80.48932072,\n",
       "       73.77966276, 68.80533689, 61.40617446, 61.93634883, 59.78807273,\n",
       "       51.98860418, 72.48991155, 60.79358897, 52.04206527, 51.31701497])"
      ]
     },
     "execution_count": 5,
     "metadata": {},
     "output_type": "execute_result"
    }
   ],
   "source": [
    "data = np.load('/Users/paulwen/Desktop/012_anxiety_data.npy')\n",
    "data"
   ]
  },
  {
   "cell_type": "markdown",
   "id": "848ffab6",
   "metadata": {},
   "source": [
    "Now let's make sure we know our data set, `real_data`, well. Let's \n",
    "\n",
    "* look at a histogram\n",
    "* ditto with a kde\n",
    "* compute the mean, median and standard deviation\n",
    "* compute the standard error of the mean\n"
   ]
  },
  {
   "cell_type": "code",
   "execution_count": 9,
   "id": "18f3ecf6",
   "metadata": {},
   "outputs": [
    {
     "ename": "AttributeError",
     "evalue": "'numpy.ndarray' object has no attribute 'hist'",
     "output_type": "error",
     "traceback": [
      "\u001b[0;31m---------------------------------------------------------------------------\u001b[0m",
      "\u001b[0;31mAttributeError\u001b[0m                            Traceback (most recent call last)",
      "\u001b[0;32m<ipython-input-9-f979bc019506>\u001b[0m in \u001b[0;36m<module>\u001b[0;34m\u001b[0m\n\u001b[1;32m      1\u001b[0m \u001b[0;31m# histogram\u001b[0m\u001b[0;34m\u001b[0m\u001b[0;34m\u001b[0m\u001b[0;34m\u001b[0m\u001b[0m\n\u001b[0;32m----> 2\u001b[0;31m \u001b[0mdata\u001b[0m\u001b[0;34m.\u001b[0m\u001b[0mhist\u001b[0m\u001b[0;34m(\u001b[0m\u001b[0;34m)\u001b[0m\u001b[0;34m\u001b[0m\u001b[0;34m\u001b[0m\u001b[0m\n\u001b[0m",
      "\u001b[0;31mAttributeError\u001b[0m: 'numpy.ndarray' object has no attribute 'hist'"
     ]
    }
   ],
   "source": [
    "# histogram\n",
    "data.hist()"
   ]
  },
  {
   "cell_type": "code",
   "execution_count": 3,
   "id": "a6a3b264",
   "metadata": {},
   "outputs": [],
   "source": [
    "# kde\n"
   ]
  },
  {
   "cell_type": "code",
   "execution_count": 10,
   "id": "4b73fbac",
   "metadata": {},
   "outputs": [
    {
     "ename": "AttributeError",
     "evalue": "'numpy.ndarray' object has no attribute 'Describe'",
     "output_type": "error",
     "traceback": [
      "\u001b[0;31m---------------------------------------------------------------------------\u001b[0m",
      "\u001b[0;31mAttributeError\u001b[0m                            Traceback (most recent call last)",
      "\u001b[0;32m<ipython-input-10-364110182d0d>\u001b[0m in \u001b[0;36m<module>\u001b[0;34m\u001b[0m\n\u001b[1;32m      1\u001b[0m \u001b[0;31m# mean, median and standard deviation\u001b[0m\u001b[0;34m\u001b[0m\u001b[0;34m\u001b[0m\u001b[0;34m\u001b[0m\u001b[0m\n\u001b[0;32m----> 2\u001b[0;31m \u001b[0mdata\u001b[0m\u001b[0;34m.\u001b[0m\u001b[0mDescribe\u001b[0m\u001b[0;34m(\u001b[0m\u001b[0;34m)\u001b[0m\u001b[0;34m\u001b[0m\u001b[0;34m\u001b[0m\u001b[0m\n\u001b[0m",
      "\u001b[0;31mAttributeError\u001b[0m: 'numpy.ndarray' object has no attribute 'Describe'"
     ]
    }
   ],
   "source": [
    "# mean, median and standard deviation\n",
    "data.Describe()"
   ]
  },
  {
   "cell_type": "code",
   "execution_count": 3,
   "id": "43f9f03d",
   "metadata": {},
   "outputs": [],
   "source": [
    "# standard error\n"
   ]
  },
  {
   "cell_type": "markdown",
   "id": "20281012",
   "metadata": {},
   "source": [
    "---"
   ]
  },
  {
   "cell_type": "markdown",
   "id": "5e67c7c8",
   "metadata": {},
   "source": [
    "In a sentence or two of your own words, describe what the standard error of the mean is:"
   ]
  },
  {
   "cell_type": "markdown",
   "id": "c70e80bc",
   "metadata": {},
   "source": []
  },
  {
   "cell_type": "markdown",
   "id": "9d74e3d3",
   "metadata": {},
   "source": [
    "---"
   ]
  },
  {
   "cell_type": "markdown",
   "id": "45042d71",
   "metadata": {},
   "source": [
    "### Simulate a bunch of experimental replications"
   ]
  },
  {
   "cell_type": "markdown",
   "id": "03044c01",
   "metadata": {},
   "source": [
    "Imagine, we wanted to simulate many many repeates of the same experiments. Fpr examp,e imagine that we wanted to appreciate the variability of the data obtained in the experiments, under certain conditions of noise and variability in the data. \n",
    "\n",
    "How would we simulate a bunch of experiments? We obviously can't actually repeat the experiments in the real world. But, as data scientists, we do have a couple of options, both of which we can implement with `for` loops!"
   ]
  },
  {
   "cell_type": "markdown",
   "id": "0adb4873",
   "metadata": {},
   "source": [
    "#### Monte Carlo Simulation"
   ]
  },
  {
   "cell_type": "markdown",
   "id": "50b8819d",
   "metadata": {},
   "source": [
    "If we want to repeat the experment a bunch of times, let's consider what we know! We know that the website claims that:\n",
    "\n",
    "* the scores are normally distributed\n",
    "* they have a mean of 50\n",
    "* and a standard deviation of 10\n",
    "\n",
    "So we should be able to use `numpy.random.randn()` to generate numbers that meet the first critereon. Then we just have to scale the standard deviation up by 10 and set the mean to 50. Luckily, we know how to multiply (`*`) and add (`+`), respectively.\n",
    "\n",
    "So here's our mission: \n",
    "\n",
    "* write a `for` loop that repeats `n_replications = 2000` times\n",
    "* on each replication\n",
    "    - compute the mean of the simulated experiment\n",
    "    - store that mean in a `mc_means` numpy array\n",
    "* do a histogram of the means\n",
    "* make a kde also too\n",
    "* compute the mean and standard deviation of the 2000 means\n",
    "   - compare the \"mean o' means\" from your simulation with the data mean\n",
    "   - compare the \"standard deviation o' means\" with the standard error of the data"
   ]
  },
  {
   "cell_type": "markdown",
   "id": "e8de9320",
   "metadata": {},
   "source": [
    "The simulation via `for` loop:"
   ]
  },
  {
   "cell_type": "code",
   "execution_count": null,
   "id": "3d9b2b4a",
   "metadata": {},
   "outputs": [],
   "source": []
  },
  {
   "cell_type": "markdown",
   "id": "cfd404f2",
   "metadata": {},
   "source": [
    "Histogram of the means:"
   ]
  },
  {
   "cell_type": "code",
   "execution_count": null,
   "id": "87ead3a7",
   "metadata": {},
   "outputs": [],
   "source": []
  },
  {
   "cell_type": "markdown",
   "id": "eaacb22e",
   "metadata": {},
   "source": [
    "KDE of the means"
   ]
  },
  {
   "cell_type": "code",
   "execution_count": null,
   "id": "15f08876",
   "metadata": {},
   "outputs": [],
   "source": []
  },
  {
   "cell_type": "markdown",
   "id": "0cc6cd91",
   "metadata": {},
   "source": [
    "Compute the mean value of your simulation means:"
   ]
  },
  {
   "cell_type": "code",
   "execution_count": null,
   "id": "cf0c918a",
   "metadata": {},
   "outputs": [],
   "source": []
  },
  {
   "cell_type": "markdown",
   "id": "42c5b077",
   "metadata": {},
   "source": [
    "Compare it with the original data mean:"
   ]
  },
  {
   "cell_type": "markdown",
   "id": "9e0c8c7e",
   "metadata": {},
   "source": []
  },
  {
   "cell_type": "markdown",
   "id": "af07ecfb",
   "metadata": {},
   "source": [
    "Compute the standard deviation of your simulation means:"
   ]
  },
  {
   "cell_type": "code",
   "execution_count": null,
   "id": "1f610493",
   "metadata": {},
   "outputs": [],
   "source": []
  },
  {
   "cell_type": "markdown",
   "id": "f4470b37",
   "metadata": {},
   "source": [
    "Compare it with the standard error you computed from the original data:"
   ]
  },
  {
   "cell_type": "code",
   "execution_count": null,
   "id": "67b9e6e7",
   "metadata": {},
   "outputs": [],
   "source": []
  },
  {
   "cell_type": "markdown",
   "id": "2146f706",
   "metadata": {},
   "source": [
    "---"
   ]
  },
  {
   "cell_type": "markdown",
   "id": "19b2074f",
   "metadata": {},
   "source": [
    "##### Bonus (not required)\n",
    "If you knocked the above out with time to spare – congratulations – and let's think about this: you not only have the information given above as clues to the true state of the world. You also have:\n",
    "\n",
    "* the data themselves (or the histogram thereof that you made)\n",
    "* the actual mean of the original data\n",
    "* the actual standard deviation of the original data\n",
    "\n",
    "So rather than do a simulation based on the claimed mean of the sketchy website, you could base a new simulation on the data you actually have!\n",
    "\n",
    "Note that, if you wrote you code reasonably well above, you should only have to change the values of two variables to do this new simulation!\n",
    "\n",
    "Proceed!"
   ]
  },
  {
   "cell_type": "code",
   "execution_count": null,
   "id": "cde039eb",
   "metadata": {},
   "outputs": [],
   "source": []
  }
 ],
 "metadata": {
  "kernelspec": {
   "display_name": "Python 3",
   "language": "python",
   "name": "python3"
  },
  "language_info": {
   "codemirror_mode": {
    "name": "ipython",
    "version": 3
   },
   "file_extension": ".py",
   "mimetype": "text/x-python",
   "name": "python",
   "nbconvert_exporter": "python",
   "pygments_lexer": "ipython3",
   "version": "3.8.8"
  }
 },
 "nbformat": 4,
 "nbformat_minor": 5
}
